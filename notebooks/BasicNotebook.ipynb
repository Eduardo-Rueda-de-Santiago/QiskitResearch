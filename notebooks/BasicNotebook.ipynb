{
 "cells": [
  {
   "cell_type": "markdown",
   "id": "58c8b1299bc8d3c5",
   "metadata": {},
   "source": [
    "# Basic program with Qiskit library"
   ]
  },
  {
   "cell_type": "markdown",
   "id": "c91b0591",
   "metadata": {},
   "source": [
    "### Import the necesary modules for this program"
   ]
  },
  {
   "cell_type": "code",
   "id": "initial_id",
   "metadata": {
    "collapsed": true,
    "ExecuteTime": {
     "end_time": "2024-10-09T23:10:55.888271Z",
     "start_time": "2024-10-09T23:10:54.574365Z"
    }
   },
   "source": [
    "import os\n",
    "import qiskit\n",
    "from qiskit_ibm_runtime import QiskitRuntimeService\n",
    "from dotenv import load_dotenv"
   ],
   "outputs": [],
   "execution_count": 1
  },
  {
   "cell_type": "markdown",
   "id": "35b8ad41",
   "metadata": {},
   "source": [
    "### Import the enviroment variables\n",
    "\n",
    "The enviroment variables are where the more private or particular values from each proyect are stored.\n",
    "\n",
    "You can **fins this values in the .env file**.\n",
    "\n",
    "In case this **file doesn't exist**, make a **copy** of the file **.env.example** and fill it out with **your own values** for each field."
   ]
  },
  {
   "cell_type": "code",
   "id": "8cea6096583c242d",
   "metadata": {
    "ExecuteTime": {
     "end_time": "2024-10-09T23:10:55.904425Z",
     "start_time": "2024-10-09T23:10:55.898286Z"
    }
   },
   "source": [
    "load_dotenv()"
   ],
   "outputs": [
    {
     "data": {
      "text/plain": [
       "True"
      ]
     },
     "execution_count": 2,
     "metadata": {},
     "output_type": "execute_result"
    }
   ],
   "execution_count": 2
  },
  {
   "cell_type": "markdown",
   "id": "b17e51d6",
   "metadata": {},
   "source": [
    "### Initialize the account\n",
    "\n",
    "In this cell we initialize the account we will be using to connect to the IBM machines (or our own in a simulator).\n",
    "\n",
    "Remember all this **values** are **loaded** from the **.env file**.\n",
    "\n",
    "In **case you make changes** in the .env file you must **reload their values** for them to take effect (*cell just above*).\n",
    "\n",
    "While this seems a bit pointless for just one cell with this method you can control all the notebooks in the proyect at once, and you also avoid updating personal data to github!"
   ]
  },
  {
   "cell_type": "code",
   "id": "e5b34634188342e5",
   "metadata": {
    "ExecuteTime": {
     "end_time": "2024-10-09T23:11:02.635449Z",
     "start_time": "2024-10-09T23:10:56.128708Z"
    }
   },
   "source": [
    "QiskitRuntimeService.delete_account()\n",
    "service = QiskitRuntimeService(channel=os.getenv('IBM_CHANNEL'), token=os.getenv('IBM_API_KEY'))\n",
    "QiskitRuntimeService.save_account(channel=os.getenv('IBM_CHANNEL'), token=os.getenv('IBM_API_KEY'), overwrite=True)"
   ],
   "outputs": [],
   "execution_count": 3
  },
  {
   "cell_type": "markdown",
   "id": "db2ba49c",
   "metadata": {},
   "source": [
    "### Connecting to our backend\n",
    "\n",
    "Stablish the connection with out quantum computer (select which one)."
   ]
  },
  {
   "cell_type": "code",
   "id": "4d0f129f1621c455",
   "metadata": {
    "ExecuteTime": {
     "end_time": "2024-10-09T23:11:05.159429Z",
     "start_time": "2024-10-09T23:11:02.655932Z"
    }
   },
   "source": [
    "backend = service.backend(name=os.getenv('IBM_MACHINE'))"
   ],
   "outputs": [],
   "execution_count": 4
  },
  {
   "cell_type": "markdown",
   "id": "cee511d8",
   "metadata": {},
   "source": [
    "#### Test around to see what data we can obtain from the machine!"
   ]
  },
  {
   "cell_type": "code",
   "id": "6bcd6d193fbd2822",
   "metadata": {
    "ExecuteTime": {
     "end_time": "2024-10-09T23:11:09.019661Z",
     "start_time": "2024-10-09T23:11:09.014515Z"
    }
   },
   "source": "backend.num_qubits",
   "outputs": [
    {
     "data": {
      "text/plain": [
       "127"
      ]
     },
     "execution_count": 5,
     "metadata": {},
     "output_type": "execute_result"
    }
   ],
   "execution_count": 5
  },
  {
   "metadata": {
    "ExecuteTime": {
     "end_time": "2024-10-09T23:11:28.053163Z",
     "start_time": "2024-10-09T23:11:28.048556Z"
    }
   },
   "cell_type": "code",
   "source": "backend.name",
   "id": "939095bb0629e4c",
   "outputs": [
    {
     "data": {
      "text/plain": [
       "'ibm_sherbrooke'"
      ]
     },
     "execution_count": 6,
     "metadata": {},
     "output_type": "execute_result"
    }
   ],
   "execution_count": 6
  },
  {
   "metadata": {
    "ExecuteTime": {
     "end_time": "2024-10-09T23:12:24.727335Z",
     "start_time": "2024-10-09T23:12:24.712549Z"
    }
   },
   "cell_type": "code",
   "source": "backend.backend_version",
   "id": "9945a22b8f53d49e",
   "outputs": [
    {
     "data": {
      "text/plain": [
       "'1.5.41'"
      ]
     },
     "execution_count": 7,
     "metadata": {},
     "output_type": "execute_result"
    }
   ],
   "execution_count": 7
  },
  {
   "metadata": {},
   "cell_type": "code",
   "outputs": [],
   "execution_count": null,
   "source": "",
   "id": "dce88ff11ec85e36"
  }
 ],
 "metadata": {
  "kernelspec": {
   "display_name": "Python 3",
   "language": "python",
   "name": "python3"
  },
  "language_info": {
   "codemirror_mode": {
    "name": "ipython",
    "version": 2
   },
   "file_extension": ".py",
   "mimetype": "text/x-python",
   "name": "python",
   "nbconvert_exporter": "python",
   "pygments_lexer": "ipython2",
   "version": "2.7.6"
  }
 },
 "nbformat": 4,
 "nbformat_minor": 5
}
